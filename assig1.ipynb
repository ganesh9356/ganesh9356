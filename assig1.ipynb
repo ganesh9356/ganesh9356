{
 "cells": [
  {
   "cell_type": "code",
   "execution_count": 6,
   "id": "25f25666-cb88-4aee-87b0-54e0005cdd15",
   "metadata": {},
   "outputs": [
    {
     "name": "stdin",
     "output_type": "stream",
     "text": [
      "Enter the number of days:  375\n"
     ]
    },
    {
     "name": "stdout",
     "output_type": "stream",
     "text": [
      "days:- 375\n",
      "years:- 1\n",
      "weeks:- 1\n",
      "remaining days:- 3\n"
     ]
    }
   ],
   "source": [
    "# que:-1\n",
    "\n",
    "\n",
    "days = int(input(\"Enter the number of days: \"))\n",
    "years = days // 365\n",
    "weeks = (days % 365) // 7\n",
    "remaining_days = (days % 365) % 7\n",
    "print(\"days:-\",days)\n",
    "print(\"years:-\",years)\n",
    "print(\"weeks:-\",weeks)\n",
    "print(\"remaining days:-\",remaining_days)\n"
   ]
  },
  {
   "cell_type": "code",
   "execution_count": 8,
   "id": "9087f0c4-6fa9-430a-8b24-37d30c899c97",
   "metadata": {},
   "outputs": [
    {
     "name": "stdin",
     "output_type": "stream",
     "text": [
      "Enter the basic salary of the employee:  1700\n"
     ]
    },
    {
     "name": "stdout",
     "output_type": "stream",
     "text": [
      "Basic Salary: 1700.0\n",
      "HRA:- 340.0\n",
      "DA:- 1360.0\n",
      "Gross Salary:- 3400.0\n"
     ]
    }
   ],
   "source": [
    "# que:-2\n",
    "\n",
    "basic_salary = float(input(\"Enter the basic salary of the employee: \"))\n",
    "if basic_salary <= 10000:\n",
    "    HRA = 0.20 * basic_salary\n",
    "    DA = 0.80 * basic_salary\n",
    "elif basic_salary <= 20000:\n",
    "    HRA = 0.30 * basic_salary\n",
    "    DA = 0.90 * basic_salary\n",
    "else:\n",
    "    HRA = 0.35 * basic_salary\n",
    "    DA = 0.95 * basic_salary\n",
    "gross_salary = basic_salary + HRA + DA\n",
    "print(f\"Basic Salary: {basic_salary}\")\n",
    "print(\"HRA:-\",HRA)\n",
    "print(\"DA:-\",DA)\n",
    "print(\"Gross Salary:-\",gross_salary)"
   ]
  },
  {
   "cell_type": "code",
   "execution_count": 16,
   "id": "af48fd48-0f30-43e6-aa14-5fb821978455",
   "metadata": {},
   "outputs": [
    {
     "name": "stdin",
     "output_type": "stream",
     "text": [
      "Enter the number of electricity units consumed:  125\n"
     ]
    },
    {
     "name": "stdout",
     "output_type": "stream",
     "text": [
      "Electricity units consumed:- 125.0\n",
      "Total bill amount (including surcharge): Rs: 183.4230769230769\n"
     ]
    }
   ],
   "source": [
    "# que:-3 (doubt) not sure\n",
    "\n",
    "units = float(input(\"Enter the number of electricity units consumed: \"))\n",
    "total_bill = 0\n",
    "if units <= 50:\n",
    "    total_bill = units * 0.50\n",
    "elif units <= 150:\n",
    "    total_bill = (50 * 0.50) + ((units - 50) * 0.75)\n",
    "elif units <= 250:\n",
    "    total_bill = (50 * 0.50) + (100 * 0.75) + ((units - 150) * 1.25)\n",
    "else:\n",
    "    total_bill = (50 * 0.50) + (100 * 0.75) + (100 * 1.25) + ((units - 250) * 1.50)\n",
    "perc = (17 / total_bill) * 100\n",
    "surcharge = total_bill + perc\n",
    "total_bill += surcharge\n",
    "\n",
    "print(\"Electricity units consumed:-\",units)\n",
    "print(\"Total bill amount (including surcharge): Rs:\",total_bill)"
   ]
  },
  {
   "cell_type": "code",
   "execution_count": 41,
   "id": "dd4f1a55-9dff-4e35-b958-4e8b34f3da53",
   "metadata": {},
   "outputs": [
    {
     "name": "stdout",
     "output_type": "stream",
     "text": [
      "1 \n",
      "2 2 \n",
      "3 3 3 \n",
      "4 4 4 4 \n",
      "5 5 5 5 5 \n"
     ]
    }
   ],
   "source": [
    "# que :- 4\n",
    "\n",
    "\n",
    "num_rows =5\n",
    "for i in range(1, num_rows + 1):\n",
    " for j in range(i):\n",
    "        print(i, end=\" \")\n",
    "    \n",
    " print()"
   ]
  },
  {
   "cell_type": "code",
   "execution_count": 43,
   "id": "3bc64eb0-1d8a-4c2e-89e8-d5ec3abdd66c",
   "metadata": {},
   "outputs": [
    {
     "name": "stdin",
     "output_type": "stream",
     "text": [
      "Enter a number:  75\n"
     ]
    },
    {
     "name": "stdout",
     "output_type": "stream",
     "text": [
      "The product of the digits is:= 35\n"
     ]
    }
   ],
   "source": [
    "# que 5\n",
    "\n",
    "n = int(input(\"Enter a number: \"))\n",
    "product = 1\n",
    "while n > 0:\n",
    "    digit = n % 10  \n",
    "    product *= digit\n",
    "    n //= 10\n",
    "\n",
    "\n",
    "print(\"The product of the digits is:=\",product)"
   ]
  },
  {
   "cell_type": "code",
   "execution_count": null,
   "id": "f7ef4618-8dac-4907-b793-5d7cd0748901",
   "metadata": {},
   "outputs": [],
   "source": [
    "# que 6\n",
    "\n",
    "\n",
    "x = [45,67,12,'hello',23.45,'world']\n"
   ]
  }
 ],
 "metadata": {
  "kernelspec": {
   "display_name": "Python 3 (ipykernel)",
   "language": "python",
   "name": "python3"
  },
  "language_info": {
   "codemirror_mode": {
    "name": "ipython",
    "version": 3
   },
   "file_extension": ".py",
   "mimetype": "text/x-python",
   "name": "python",
   "nbconvert_exporter": "python",
   "pygments_lexer": "ipython3",
   "version": "3.11.7"
  }
 },
 "nbformat": 4,
 "nbformat_minor": 5
}
